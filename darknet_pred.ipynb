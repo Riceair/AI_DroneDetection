{
 "cells": [
  {
   "cell_type": "code",
   "execution_count": 1,
   "metadata": {},
   "outputs": [],
   "source": [
    "import os\n",
    "import subprocess"
   ]
  },
  {
   "cell_type": "code",
   "execution_count": 2,
   "metadata": {},
   "outputs": [],
   "source": [
    "os.chdir(\"darknet_gpu\")\n",
    "result = subprocess.check_output(\"darknet detector test ../cfg_mask/obj.data ../cfg_mask/yolov4-custom.cfg ../cfg_mask/weights/yolov4-custom_final.weights\\\n",
    "                    -dont_show -ext_output ../dataset/public/img1001.png\").decode(\"utf-8\")"
   ]
  },
  {
   "cell_type": "code",
   "execution_count": 3,
   "metadata": {},
   "outputs": [
    {
     "data": {
      "text/plain": [
       "' CUDNN_HALF=1 \\r\\nnet.optimized_memory = 0 \\r\\nmini_batch = 1, batch = 16, time_steps = 1, train = 0 \\r\\nCreate CUDA-stream - 0 \\r\\n Create cudnn-handle 0 \\r\\nnms_kind: greedynms (1), beta = 0.600000 \\r\\nnms_kind: greedynms (1), beta = 0.600000 \\r\\nnms_kind: greedynms (1), beta = 0.600000 \\r\\n\\r\\n seen 64, trained: 128 K-images (2 Kilo-batches_64) \\r\\n Detection layer: 139 - type = 28 \\r\\n Detection layer: 150 - type = 28 \\r\\n Detection layer: 161 - type = 28 \\r\\n../dataset/public/img1001.png: Predicted in 25.163000 milli-seconds.\\r\\ncar: 39%\\t(left_x:   61   top_y:  565   width:   38   height:   54)\\r\\ncar: 77%\\t(left_x:  141   top_y:  359   width:   38   height:   32)\\r\\nmotorcycle: 34%\\t(left_x:  184   top_y:  815   width:   19   height:   23)\\r\\ncar: 61%\\t(left_x:  235   top_y:  822   width:   48   height:   73)\\r\\ncar: 72%\\t(left_x:  292   top_y:  811   width:   42   height:   68)\\r\\ncar: 75%\\t(left_x:  371   top_y:  814   width:   40   height:   62)\\r\\ncar: 28%\\t(left_x:  406   top_y:  811   width:   40   height:   65)\\r\\ncar: 26%\\t(left_x:  414   top_y:  804   width:   38   height:   60)\\r\\nhov: 57%\\t(left_x:  437   top_y:  317   width:   76   height:   32)\\r\\ncar: 68%\\t(left_x:  444   top_y:  346   width:   57   height:   25)\\r\\ncar: 56%\\t(left_x:  630   top_y:  851   width:   67   height:   40)\\r\\ncar: 55%\\t(left_x:  673   top_y:  403   width:   57   height:   25)\\r\\ncar: 45%\\t(left_x:  737   top_y:  395   width:   54   height:   30)\\r\\ncar: 64%\\t(left_x:  802   top_y:  408   width:   35   height:   46)\\r\\nmotorcycle: 88%\\t(left_x:  841   top_y:  322   width:   20   height:   21)\\r\\ncar: 48%\\t(left_x:  843   top_y:  469   width:   26   height:   39)\\r\\ncar: 80%\\t(left_x:  854   top_y:  521   width:   42   height:   54)\\r\\nmotorcycle: 85%\\t(left_x:  857   top_y:  322   width:   17   height:   21)\\r\\ncar: 53%\\t(left_x:  860   top_y:  367   width:   56   height:   22)\\r\\ncar: 49%\\t(left_x:  889   top_y:  534   width:   34   height:   52)\\r\\ncar: 63%\\t(left_x:  907   top_y:  409   width:   29   height:   45)\\r\\nhov: 66%\\t(left_x:  932   top_y:  386   width:   37   height:   64)\\r\\ncar: 63%\\t(left_x: 1050   top_y:  533   width:   31   height:   55)\\r\\ncar: 78%\\t(left_x: 1067   top_y:  628   width:   76   height:   35)\\r\\ncar: 57%\\t(left_x: 1077   top_y:  522   width:   33   height:   55)\\r\\ncar: 74%\\t(left_x: 1106   top_y:  520   width:   32   height:   56)\\r\\ncar: 78%\\t(left_x: 1124   top_y:  657   width:   62   height:   31)\\r\\ncar: 40%\\t(left_x: 1159   top_y:  538   width:   30   height:   40)\\r\\ncar: 67%\\t(left_x: 1238   top_y:   -0   width:   32   height:   35)\\r\\ncar: 78%\\t(left_x: 1375   top_y:  545   width:   64   height:   33)\\r\\nperson: 41%\\t(left_x: 1496   top_y: 1059   width:   20   height:   20)\\r\\nperson: 62%\\t(left_x: 1497   top_y: 1054   width:   17   height:   18)\\r\\ncar: 31%\\t(left_x: 1665   top_y:   80   width:   31   height:   20)\\r\\ncar: 61%\\t(left_x: 1701   top_y:   69   width:   23   height:   24)\\r\\ncar: 44%\\t(left_x: 1723   top_y:   46   width:   33   height:   34)\\r\\ncar: 85%\\t(left_x: 1731   top_y:   45   width:   39   height:   34)\\r\\ncar: 70%\\t(left_x: 1754   top_y:  198   width:   38   height:   43)\\r\\ncar: 83%\\t(left_x: 1761   top_y:   31   width:   39   height:   40)\\r\\ncar: 52%\\t(left_x: 1792   top_y:   26   width:   44   height:   41)\\r\\ncar: 74%\\t(left_x: 1829   top_y:  336   width:   41   height:   50)\\r\\n'"
      ]
     },
     "execution_count": 3,
     "metadata": {},
     "output_type": "execute_result"
    }
   ],
   "source": [
    "result"
   ]
  },
  {
   "cell_type": "code",
   "execution_count": 4,
   "metadata": {},
   "outputs": [
    {
     "data": {
      "text/plain": [
       "'\\r\\ncar: 39%\\t(left_x:   61   top_y:  565   width:   38   height:   54)\\r\\ncar: 77%\\t(left_x:  141   top_y:  359   width:   38   height:   32)\\r\\nmotorcycle: 34%\\t(left_x:  184   top_y:  815   width:   19   height:   23)\\r\\ncar: 61%\\t(left_x:  235   top_y:  822   width:   48   height:   73)\\r\\ncar: 72%\\t(left_x:  292   top_y:  811   width:   42   height:   68)\\r\\ncar: 75%\\t(left_x:  371   top_y:  814   width:   40   height:   62)\\r\\ncar: 28%\\t(left_x:  406   top_y:  811   width:   40   height:   65)\\r\\ncar: 26%\\t(left_x:  414   top_y:  804   width:   38   height:   60)\\r\\nhov: 57%\\t(left_x:  437   top_y:  317   width:   76   height:   32)\\r\\ncar: 68%\\t(left_x:  444   top_y:  346   width:   57   height:   25)\\r\\ncar: 56%\\t(left_x:  630   top_y:  851   width:   67   height:   40)\\r\\ncar: 55%\\t(left_x:  673   top_y:  403   width:   57   height:   25)\\r\\ncar: 45%\\t(left_x:  737   top_y:  395   width:   54   height:   30)\\r\\ncar: 64%\\t(left_x:  802   top_y:  408   width:   35   height:   46)\\r\\nmotorcycle: 88%\\t(left_x:  841   top_y:  322   width:   20   height:   21)\\r\\ncar: 48%\\t(left_x:  843   top_y:  469   width:   26   height:   39)\\r\\ncar: 80%\\t(left_x:  854   top_y:  521   width:   42   height:   54)\\r\\nmotorcycle: 85%\\t(left_x:  857   top_y:  322   width:   17   height:   21)\\r\\ncar: 53%\\t(left_x:  860   top_y:  367   width:   56   height:   22)\\r\\ncar: 49%\\t(left_x:  889   top_y:  534   width:   34   height:   52)\\r\\ncar: 63%\\t(left_x:  907   top_y:  409   width:   29   height:   45)\\r\\nhov: 66%\\t(left_x:  932   top_y:  386   width:   37   height:   64)\\r\\ncar: 63%\\t(left_x: 1050   top_y:  533   width:   31   height:   55)\\r\\ncar: 78%\\t(left_x: 1067   top_y:  628   width:   76   height:   35)\\r\\ncar: 57%\\t(left_x: 1077   top_y:  522   width:   33   height:   55)\\r\\ncar: 74%\\t(left_x: 1106   top_y:  520   width:   32   height:   56)\\r\\ncar: 78%\\t(left_x: 1124   top_y:  657   width:   62   height:   31)\\r\\ncar: 40%\\t(left_x: 1159   top_y:  538   width:   30   height:   40)\\r\\ncar: 67%\\t(left_x: 1238   top_y:   -0   width:   32   height:   35)\\r\\ncar: 78%\\t(left_x: 1375   top_y:  545   width:   64   height:   33)\\r\\nperson: 41%\\t(left_x: 1496   top_y: 1059   width:   20   height:   20)\\r\\nperson: 62%\\t(left_x: 1497   top_y: 1054   width:   17   height:   18)\\r\\ncar: 31%\\t(left_x: 1665   top_y:   80   width:   31   height:   20)\\r\\ncar: 61%\\t(left_x: 1701   top_y:   69   width:   23   height:   24)\\r\\ncar: 44%\\t(left_x: 1723   top_y:   46   width:   33   height:   34)\\r\\ncar: 85%\\t(left_x: 1731   top_y:   45   width:   39   height:   34)\\r\\ncar: 70%\\t(left_x: 1754   top_y:  198   width:   38   height:   43)\\r\\ncar: 83%\\t(left_x: 1761   top_y:   31   width:   39   height:   40)\\r\\ncar: 52%\\t(left_x: 1792   top_y:   26   width:   44   height:   41)\\r\\ncar: 74%\\t(left_x: 1829   top_y:  336   width:   41   height:   50)\\r\\n'"
      ]
     },
     "execution_count": 4,
     "metadata": {},
     "output_type": "execute_result"
    }
   ],
   "source": [
    "target_string = \"milli-seconds.\"\n",
    "start_idx = result.find(target_string)\n",
    "pred_result = result[start_idx+len(target_string):]\n",
    "pred_result"
   ]
  },
  {
   "cell_type": "code",
   "execution_count": 5,
   "metadata": {},
   "outputs": [
    {
     "data": {
      "text/plain": [
       "['car: 39%\\t(left_x:   61   top_y:  565   width:   38   height:   54)',\n",
       " 'car: 77%\\t(left_x:  141   top_y:  359   width:   38   height:   32)',\n",
       " 'motorcycle: 34%\\t(left_x:  184   top_y:  815   width:   19   height:   23)',\n",
       " 'car: 61%\\t(left_x:  235   top_y:  822   width:   48   height:   73)',\n",
       " 'car: 72%\\t(left_x:  292   top_y:  811   width:   42   height:   68)',\n",
       " 'car: 75%\\t(left_x:  371   top_y:  814   width:   40   height:   62)',\n",
       " 'car: 28%\\t(left_x:  406   top_y:  811   width:   40   height:   65)',\n",
       " 'car: 26%\\t(left_x:  414   top_y:  804   width:   38   height:   60)',\n",
       " 'hov: 57%\\t(left_x:  437   top_y:  317   width:   76   height:   32)',\n",
       " 'car: 68%\\t(left_x:  444   top_y:  346   width:   57   height:   25)',\n",
       " 'car: 56%\\t(left_x:  630   top_y:  851   width:   67   height:   40)',\n",
       " 'car: 55%\\t(left_x:  673   top_y:  403   width:   57   height:   25)',\n",
       " 'car: 45%\\t(left_x:  737   top_y:  395   width:   54   height:   30)',\n",
       " 'car: 64%\\t(left_x:  802   top_y:  408   width:   35   height:   46)',\n",
       " 'motorcycle: 88%\\t(left_x:  841   top_y:  322   width:   20   height:   21)',\n",
       " 'car: 48%\\t(left_x:  843   top_y:  469   width:   26   height:   39)',\n",
       " 'car: 80%\\t(left_x:  854   top_y:  521   width:   42   height:   54)',\n",
       " 'motorcycle: 85%\\t(left_x:  857   top_y:  322   width:   17   height:   21)',\n",
       " 'car: 53%\\t(left_x:  860   top_y:  367   width:   56   height:   22)',\n",
       " 'car: 49%\\t(left_x:  889   top_y:  534   width:   34   height:   52)',\n",
       " 'car: 63%\\t(left_x:  907   top_y:  409   width:   29   height:   45)',\n",
       " 'hov: 66%\\t(left_x:  932   top_y:  386   width:   37   height:   64)',\n",
       " 'car: 63%\\t(left_x: 1050   top_y:  533   width:   31   height:   55)',\n",
       " 'car: 78%\\t(left_x: 1067   top_y:  628   width:   76   height:   35)',\n",
       " 'car: 57%\\t(left_x: 1077   top_y:  522   width:   33   height:   55)',\n",
       " 'car: 74%\\t(left_x: 1106   top_y:  520   width:   32   height:   56)',\n",
       " 'car: 78%\\t(left_x: 1124   top_y:  657   width:   62   height:   31)',\n",
       " 'car: 40%\\t(left_x: 1159   top_y:  538   width:   30   height:   40)',\n",
       " 'car: 67%\\t(left_x: 1238   top_y:   -0   width:   32   height:   35)',\n",
       " 'car: 78%\\t(left_x: 1375   top_y:  545   width:   64   height:   33)',\n",
       " 'person: 41%\\t(left_x: 1496   top_y: 1059   width:   20   height:   20)',\n",
       " 'person: 62%\\t(left_x: 1497   top_y: 1054   width:   17   height:   18)',\n",
       " 'car: 31%\\t(left_x: 1665   top_y:   80   width:   31   height:   20)',\n",
       " 'car: 61%\\t(left_x: 1701   top_y:   69   width:   23   height:   24)',\n",
       " 'car: 44%\\t(left_x: 1723   top_y:   46   width:   33   height:   34)',\n",
       " 'car: 85%\\t(left_x: 1731   top_y:   45   width:   39   height:   34)',\n",
       " 'car: 70%\\t(left_x: 1754   top_y:  198   width:   38   height:   43)',\n",
       " 'car: 83%\\t(left_x: 1761   top_y:   31   width:   39   height:   40)',\n",
       " 'car: 52%\\t(left_x: 1792   top_y:   26   width:   44   height:   41)',\n",
       " 'car: 74%\\t(left_x: 1829   top_y:  336   width:   41   height:   50)']"
      ]
     },
     "execution_count": 5,
     "metadata": {},
     "output_type": "execute_result"
    }
   ],
   "source": [
    "pred_result = pred_result.split(\"\\r\\n\")[1:-1]\n",
    "pred_result"
   ]
  },
  {
   "cell_type": "code",
   "execution_count": 7,
   "metadata": {},
   "outputs": [
    {
     "name": "stdout",
     "output_type": "stream",
     "text": [
      "[0, '61', '565', '38', '54']\n",
      "[0, '141', '359', '38', '32']\n",
      "[3, '184', '815', '19', '23']\n",
      "[0, '235', '822', '48', '73']\n",
      "[0, '292', '811', '42', '68']\n",
      "[0, '371', '814', '40', '62']\n",
      "[0, '406', '811', '40', '65']\n",
      "[0, '414', '804', '38', '60']\n",
      "[1, '437', '317', '76', '32']\n",
      "[0, '444', '346', '57', '25']\n",
      "[0, '630', '851', '67', '40']\n",
      "[0, '673', '403', '57', '25']\n",
      "[0, '737', '395', '54', '30']\n",
      "[0, '802', '408', '35', '46']\n",
      "[3, '841', '322', '20', '21']\n",
      "[0, '843', '469', '26', '39']\n",
      "[0, '854', '521', '42', '54']\n",
      "[3, '857', '322', '17', '21']\n",
      "[0, '860', '367', '56', '22']\n",
      "[0, '889', '534', '34', '52']\n",
      "[0, '907', '409', '29', '45']\n",
      "[1, '932', '386', '37', '64']\n",
      "[0, '1050', '533', '31', '55']\n",
      "[0, '1067', '628', '76', '35']\n",
      "[0, '1077', '522', '33', '55']\n",
      "[0, '1106', '520', '32', '56']\n",
      "[0, '1124', '657', '62', '31']\n",
      "[0, '1159', '538', '30', '40']\n",
      "[0, '1238', '-0', '32', '35']\n",
      "[0, '1375', '545', '64', '33']\n",
      "[2, '1496', '1059', '20', '20']\n",
      "[2, '1497', '1054', '17', '18']\n",
      "[0, '1665', '80', '31', '20']\n",
      "[0, '1701', '69', '23', '24']\n",
      "[0, '1723', '46', '33', '34']\n",
      "[0, '1731', '45', '39', '34']\n",
      "[0, '1754', '198', '38', '43']\n",
      "[0, '1761', '31', '39', '40']\n",
      "[0, '1792', '26', '44', '41']\n",
      "[0, '1829', '336', '41', '50']\n"
     ]
    }
   ],
   "source": [
    "label_name = [\"car\", \"hov\", \"person\", \"motorcycle\"]\n",
    "## coord_location = left_x:, top_y, width, height\n",
    "coord_location = [3, 5, 7, 9]\n",
    "for pred_obj in pred_result:\n",
    "    pred_obj = pred_obj.replace(\")\",\"\").replace(\":\",\"\").split()\n",
    "    obj_label = pred_obj[0]\n",
    "    location = [pred_obj[i] for i in coord_location]\n",
    "    \n",
    "    for name in label_name:\n",
    "        if name == obj_label:\n",
    "            label = label_name.index(name)\n",
    "    print([label]+location)"
   ]
  },
  {
   "cell_type": "code",
   "execution_count": null,
   "metadata": {},
   "outputs": [],
   "source": []
  }
 ],
 "metadata": {
  "kernelspec": {
   "display_name": "Python 3.8.8 ('base')",
   "language": "python",
   "name": "python3"
  },
  "language_info": {
   "codemirror_mode": {
    "name": "ipython",
    "version": 3
   },
   "file_extension": ".py",
   "mimetype": "text/x-python",
   "name": "python",
   "nbconvert_exporter": "python",
   "pygments_lexer": "ipython3",
   "version": "3.8.8"
  },
  "orig_nbformat": 4,
  "vscode": {
   "interpreter": {
    "hash": "5850f293d5712e5c6d19cea0f56365f6e8795abb17dc044d20844fbb0bf63f46"
   }
  }
 },
 "nbformat": 4,
 "nbformat_minor": 2
}
