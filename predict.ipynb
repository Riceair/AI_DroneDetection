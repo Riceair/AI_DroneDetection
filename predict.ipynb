{
 "cells": [
  {
   "cell_type": "markdown",
   "metadata": {},
   "source": [
    "## one image predict"
   ]
  },
  {
   "cell_type": "code",
   "execution_count": null,
   "metadata": {},
   "outputs": [],
   "source": [
    "import cv2\n",
    "import numpy as np\n",
    "net = cv2.dnn.readNetFromDarknet(\"/content/cfg_mask/yolov4-custom.cfg\",\"/content/yolov4-custom_8000.weights\")\n",
    "layer_names = net.getLayerNames()\n",
    "output_layers = [layer_names[i - 1] for i in net.getUnconnectedOutLayers()]\n",
    "classes = [line.strip() for line in open(\"/content/cfg_mask/obj.names\")]\n",
    "colors = [(0,0,255),(255,0,0),(0,255,0), (255, 255, 0)] # 設定不同class 的顏色\n",
    "\n",
    "# 回傳預測後的圖片\n",
    "def yolo_detect(frame):\n",
    "    # forward propogation\n",
    "    # img = cv2.resize(frame, None, fx=0.4, fy=0.4)\n",
    "    img = frame\n",
    "    # print(image.shape)\n",
    "    height, width, channels = img.shape \n",
    "    blob = cv2.dnn.blobFromImage(img, 1/255.0, (416, 416), (0, 0, 0), True, crop=False)\n",
    "    net.setInput(blob)\n",
    "    outs = net.forward(output_layers)\n",
    "\n",
    "    # get detection boxes\n",
    "    class_ids = []\n",
    "    confidences = []\n",
    "    boxes = []\n",
    "    \n",
    "    for out in outs:\n",
    "        for detection in out:\n",
    "            # print(detection)\n",
    "            tx, ty, tw, th, confidence = detection[0:5]\n",
    "            scores = detection[5:]\n",
    "            # print(detection[5:])\n",
    "            class_id = np.argmax(scores)\n",
    "            # print(class_id)\n",
    "            if confidence > 0.3:   \n",
    "                center_x = int(tx * width)\n",
    "                center_y = int(ty * height)\n",
    "                w = int(tw * width)\n",
    "                h = int(th * height)\n",
    "\n",
    "                # 取得箱子方框座標\n",
    "                x = int(center_x - w / 2)\n",
    "                y = int(center_y - h / 2)\n",
    "                # if x < 0:\n",
    "                #     x = 0\n",
    "                # if y < 0:\n",
    "                #     y = 0                \n",
    "                boxes.append([x, y, w, h])\n",
    "                print(x, y, w, h)\n",
    "                confidences.append(float(confidence))\n",
    "                class_ids.append(class_id)\n",
    "                \n",
    "    # for i in range(len(boxes)):\n",
    "    #     print(class_ids[i], boxes, sep=' ')\n",
    "    # print(len(class_ids))\n",
    "    # print(len(boxes))\n",
    "    # draw boxes\n",
    "    indexes = cv2.dnn.NMSBoxes(boxes, confidences, 0.3, 0.4)\n",
    "    font = cv2.FONT_HERSHEY_PLAIN\n",
    "    for i in range(len(boxes)):\n",
    "        if i in indexes:\n",
    "            # print(i)\n",
    "            x, y, w, h = boxes[i]\n",
    "            # print(class_ids[i])\n",
    "            label = str(classes[class_ids[i]])\n",
    "            # print(label)\n",
    "            # print(class_ids[i])\n",
    "            # print(\"=================\")\n",
    "            color = colors[class_ids[i]]\n",
    "            cv2.rectangle(img, (x, y), (x + w, y + h), color, 2)\n",
    "            cv2.putText(img, label, (x, y -5), font, 3, color, 3)\n",
    "    return img"
   ]
  },
  {
   "cell_type": "code",
   "execution_count": null,
   "metadata": {},
   "outputs": [],
   "source": [
    "from PIL import Image\n",
    "from matplotlib import pyplot as plt\n",
    "\n",
    "img = cv2.imread(\"/content/yolo/0001.png\")\n",
    "# print(img.shape)\n",
    "Image.open(\"/content/yolo/0001.png\")\n",
    "im = yolo_detect(img)\n",
    "img_rgb = cv2.cvtColor(im, cv2.COLOR_BGR2RGB)\n",
    "plt.imshow(img_rgb)"
   ]
  }
 ],
 "metadata": {
  "kernelspec": {
   "display_name": "Python 3.8.8 ('base')",
   "language": "python",
   "name": "python3"
  },
  "language_info": {
   "name": "python",
   "version": "3.8.8"
  },
  "orig_nbformat": 4,
  "vscode": {
   "interpreter": {
    "hash": "5850f293d5712e5c6d19cea0f56365f6e8795abb17dc044d20844fbb0bf63f46"
   }
  }
 },
 "nbformat": 4,
 "nbformat_minor": 2
}
