{
 "cells": [
  {
   "cell_type": "code",
   "execution_count": 17,
   "metadata": {},
   "outputs": [
    {
     "name": "stdout",
     "output_type": "stream",
     "text": [
      "             0  1    2    3   4   5\n",
      "0      img1001  0   61  565  38  54\n",
      "1      img1001  0  141  359  38  32\n",
      "2      img1001  3  184  815  19  23\n",
      "3      img1001  0  235  822  48  73\n",
      "4      img1001  0  292  811  42  68\n",
      "...        ... ..  ...  ...  ..  ..\n",
      "16874  img1500  0  832  888  29  60\n",
      "16875  img1500  0  852  243  24  43\n",
      "16876  img1500  0  853  201  25  42\n",
      "16877  img1500  0  853  156  25  46\n",
      "16878  img1500  0  863    4  20  40\n",
      "\n",
      "[16879 rows x 6 columns]\n"
     ]
    }
   ],
   "source": [
    "import pandas as pd\n",
    "\n",
    "image_w = 1920\n",
    "image_h = 1080\n",
    "# read csv file every rows\n",
    "df = pd.read_csv('output(win_darknet).csv', header=None)\n",
    "print(df)\n",
    "\n",
    "# read every rows in df\n",
    "for i in range(len(df)):\n",
    "    x = df.iloc[i, 2]\n",
    "    y = df.iloc[i, 3]\n",
    "    w = df.iloc[i, 4]\n",
    "    h = df.iloc[i, 5]\n",
    "    \n",
    "    if x < 0:\n",
    "        df.iloc[i, 2] = 0\n",
    "    if y < 0:\n",
    "        df.iloc[i, 3] = 0\n",
    "    if x + w > image_w:\n",
    "        df.iloc[i, 4] = image_w - x\n",
    "    if y + h > image_h:\n",
    "        df.iloc[i, 5] = image_h - y\n",
    "\n",
    "\n"
   ]
  }
 ],
 "metadata": {
  "kernelspec": {
   "display_name": "Python 3.8.8 ('base')",
   "language": "python",
   "name": "python3"
  },
  "language_info": {
   "codemirror_mode": {
    "name": "ipython",
    "version": 3
   },
   "file_extension": ".py",
   "mimetype": "text/x-python",
   "name": "python",
   "nbconvert_exporter": "python",
   "pygments_lexer": "ipython3",
   "version": "3.8.8"
  },
  "orig_nbformat": 4,
  "vscode": {
   "interpreter": {
    "hash": "5850f293d5712e5c6d19cea0f56365f6e8795abb17dc044d20844fbb0bf63f46"
   }
  }
 },
 "nbformat": 4,
 "nbformat_minor": 2
}
